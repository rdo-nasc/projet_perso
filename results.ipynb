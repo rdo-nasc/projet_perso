{
 "cells": [
  {
   "cell_type": "code",
   "execution_count": 1,
   "metadata": {},
   "outputs": [],
   "source": [
    "import numpy as np\n",
    "import pandas as pd\n",
    "import data_prep as data"
   ]
  },
  {
   "cell_type": "markdown",
   "metadata": {},
   "source": [
    "## Hypothèse 1"
   ]
  },
  {
   "cell_type": "code",
   "execution_count": 2,
   "metadata": {},
   "outputs": [
    {
     "data": {
      "text/plain": [
       "count    115.0\n",
       "mean       1.6\n",
       "std        5.3\n",
       "min       -5.1\n",
       "25%       -2.3\n",
       "50%        0.3\n",
       "75%        3.7\n",
       "max       20.1\n",
       "Name: deviation, dtype: float64"
      ]
     },
     "metadata": {},
     "output_type": "display_data"
    }
   ],
   "source": [
    "df1 = data.team_df[['fbarontime', 'gamelength']][data.team_df.result == 1]\n",
    "df1['deviation'] = df1.gamelength - (df1.fbarontime + 6)\n",
    "display(np.round(df1['deviation'].describe(), 1))"
   ]
  },
  {
   "cell_type": "markdown",
   "metadata": {},
   "source": [
    "## Hypothèse 2"
   ]
  },
  {
   "cell_type": "code",
   "execution_count": 17,
   "metadata": {
    "scrolled": true
   },
   "outputs": [
    {
     "data": {
      "text/plain": [
       "46"
      ]
     },
     "metadata": {},
     "output_type": "display_data"
    },
    {
     "data": {
      "text/plain": [
       "39.0"
      ]
     },
     "metadata": {},
     "output_type": "display_data"
    }
   ],
   "source": [
    "df2 = data.stats_df[data.stats_df.result == 1]\n",
    "df2 = (df2[df2.position == 'ADC'].earnedgoldshare < df2[df2.position == 'Middle'].earnedgoldshare) | (df2[df2.position == 'ADC'].earnedgoldshare < df2[df2.position == 'Top'].earnedgoldshare)\n",
    "display(df2[df2 == True].shape[0])\n",
    "display(np.round(df2[df2 == True].shape[0] / data.nb_games * 100))"
   ]
  },
  {
   "cell_type": "markdown",
   "metadata": {},
   "source": [
    "## Hypothèse 3"
   ]
  },
  {
   "cell_type": "code",
   "execution_count": 33,
   "metadata": {},
   "outputs": [
    {
     "name": "stdout",
     "output_type": "stream",
     "text": [
      "12 26\n",
      "14 25\n",
      "11 28\n",
      "22 61\n",
      "15 33\n",
      "34 66\n",
      "26 54\n",
      "23 43\n",
      "8 13\n"
     ]
    }
   ],
   "source": [
    "df3 = data.team_df[data.team_df.result == 1].melt(id_vars= 'gameid',value_vars=['ban1','ban2', 'ban3', 'ban4', 'ban5']).drop('variable', axis = 1).set_index('gameid').rename(columns={'value': 'bans'})\n",
    "print(df3[df3.bans == 'Ryze'].shape[0], data.bans_df[data.bans_df.bans == 'Ryze'].shape[0])\n",
    "print(df3[df3.bans == 'Nautilus'].shape[0], data.bans_df[data.bans_df.bans == 'Nautilus'].shape[0])\n",
    "print(df3[df3.bans == 'Rakan'].shape[0], data.bans_df[data.bans_df.bans == 'Rakan'].shape[0])\n",
    "print(df3[df3.bans == 'Renekton'].shape[0], data.bans_df[data.bans_df.bans == 'Renekton'].shape[0])\n",
    "print(df3[df3.bans == 'Gangplank'].shape[0], data.bans_df[data.bans_df.bans == 'Gangplank'].shape[0])\n",
    "print(df3[df3.bans == 'Syndra'].shape[0], data.bans_df[data.bans_df.bans == 'Syndra'].shape[0])\n",
    "print(df3[df3.bans == 'Akali'].shape[0], data.bans_df[data.bans_df.bans == 'Akali'].shape[0])\n",
    "print(df3[df3.bans == 'Kayle'].shape[0], data.bans_df[data.bans_df.bans == 'Kayle'].shape[0])\n",
    "print(df3[df3.bans == 'Lee Sin'].shape[0], data.bans_df[data.bans_df.bans == 'Lee Sin'].shape[0])"
   ]
  }
 ],
 "metadata": {
  "kernelspec": {
   "display_name": "Python 3",
   "language": "python",
   "name": "python3"
  },
  "language_info": {
   "codemirror_mode": {
    "name": "ipython",
    "version": 3
   },
   "file_extension": ".py",
   "mimetype": "text/x-python",
   "name": "python",
   "nbconvert_exporter": "python",
   "pygments_lexer": "ipython3",
   "version": "3.8.2"
  }
 },
 "nbformat": 4,
 "nbformat_minor": 4
}
