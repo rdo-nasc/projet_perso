{
 "cells": [
  {
   "cell_type": "markdown",
   "metadata": {},
   "source": [
    "# Première partie\n",
    "## -**Nettoyage des données**\n"
   ]
  },
  {
   "cell_type": "code",
   "execution_count": 1,
   "metadata": {},
   "outputs": [],
   "source": [
    "game_col = ['gameid', 'week', 'game', 'gamelength', 'fbtime', 'fdtime', 'fttime', 'fbarontime',\n",
    "           'heraldtime', 'ckpm']\n",
    "\n",
    "team_col = ['side', 'team', 'ban1', 'ban2', 'ban3', 'ban4', 'ban5', 'result', 'k', 'd', 'a',\n",
    "        'teamkills', 'teamdeaths', 'fb','kpm', 'okpm', 'fd', \n",
    "        'teamdragkills', 'oppdragkills', 'elementals', 'oppelementals', 'firedrakes', 'waterdrakes',\n",
    "        'earthdrakes', 'airdrakes', 'elders', 'oppelders', 'herald',\n",
    "        'heraldtime', 'ft', 'firstmidouter', 'firsttothreetowers',\n",
    "        'teamtowerkills', 'opptowerkills', 'fbaron',\n",
    "        'teambaronkills', 'oppbaronkills', 'epicmonsterkills']\n",
    "\n",
    "players_col = ['position', 'player', 'team',\n",
    "       'champion', 'k', 'd', 'a' ,'doubles',\n",
    "       'triples', 'quadras', 'pentas', 'fb', 'fbassist', 'fbvictim', 'fbtime',\n",
    "       'kpm', 'okpm','dmgtochamps', 'dmgtochampsperminute', 'dmgshare',\n",
    "       'earnedgoldshare', 'wards', 'wpm', 'wardshare', 'wardkills', 'wcpm',\n",
    "       'visionwards', 'visionwardbuys', 'totalgold', 'earnedgpm', 'goldspent',\n",
    "       'gspd', 'minionkills', 'monsterkills', 'monsterkillsownjungle',\n",
    "       'monsterkillsenemyjungle', 'cspm', 'goldat10', 'oppgoldat10', 'gdat10',\n",
    "       'goldat15', 'oppgoldat15', 'gdat15', 'xpat10', 'oppxpat10', 'xpdat10',\n",
    "       'csat10', 'oppcsat10', 'csdat10', 'csat15', 'oppcsat15', 'csdat15']"
   ]
  },
  {
   "cell_type": "code",
   "execution_count": 2,
   "metadata": {
    "scrolled": true
   },
   "outputs": [],
   "source": [
    "import pandas as pd\n",
    "import numpy as np\n",
    "full_df = pd.read_csv('data/lol_worlds_2019.csv', na_values = ' ').drop(['url', 'league', 'split', 'date', 'patchno', 'playerid'], axis = 1).set_index('gameid', drop = False)"
   ]
  },
  {
   "cell_type": "code",
   "execution_count": 3,
   "metadata": {},
   "outputs": [],
   "source": [
    "full_df.earnedgoldshare = np.round(full_df.earnedgoldshare * 100, decimals = 2)\n",
    "full_df.wardshare = np.round(full_df.wardshare * 100, decimals = 2)\n",
    "full_df.dmgshare = np.round(full_df.dmgshare * 100, decimals = 2)\n",
    "full_df['epicmonsterkills'] = full_df.teamdragkills + full_df.teambaronkills + full_df.herald"
   ]
  },
  {
   "cell_type": "code",
   "execution_count": 4,
   "metadata": {},
   "outputs": [
    {
     "name": "stdout",
     "output_type": "stream",
     "text": [
      "119 24 127\n"
     ]
    }
   ],
   "source": [
    "team_df = full_df[full_df.position == \"Team\"]\n",
    "team_df = team_df.dropna(axis = 1, how = 'all')\n",
    "\n",
    "players_df = full_df[full_df.position != \"Team\"]\n",
    "players_df = players_df.dropna(axis = 1, how = 'all')\n",
    "players_df['kda'] = (players_df.k + players_df.a) / players_df.d.replace(0, 1)\n",
    "\n",
    "nb_games = team_df[team_df.result == 1].shape[0]\n",
    "nb_teams = team_df.team.unique().shape[0]\n",
    "nb_players = players_df.player.unique().shape[0]\n",
    "print(nb_games, nb_teams, nb_players)"
   ]
  },
  {
   "cell_type": "markdown",
   "metadata": {},
   "source": [
    "**Statistiques globales**"
   ]
  },
  {
   "cell_type": "code",
   "execution_count": 5,
   "metadata": {},
   "outputs": [],
   "source": [
    "gamelen_df = team_df[['gamelength']][team_df.result == 1]\n",
    "\n",
    "cs_df = players_df[['position', 'csat10', 'csat15']]\n",
    "xp_df = players_df[['position','xpat10']]\n",
    "\n",
    "stats_df = players_df[['position', 'dmgshare', 'earnedgoldshare', 'earnedgpm', 'wardshare', 'kda']]"
   ]
  },
  {
   "cell_type": "markdown",
   "metadata": {},
   "source": [
    "**Champions**"
   ]
  },
  {
   "cell_type": "code",
   "execution_count": 6,
   "metadata": {},
   "outputs": [],
   "source": [
    "bans_df = team_df.melt(id_vars= 'gameid',value_vars=['ban1','ban2', 'ban3', 'ban4', 'ban5']).drop('variable', axis = 1).set_index('gameid').rename(columns={'value': 'bans'})\n",
    "pick_df = players_df[['result','champion', 'position']]"
   ]
  },
  {
   "cell_type": "markdown",
   "metadata": {},
   "source": [
    "**Side**"
   ]
  },
  {
   "cell_type": "code",
   "execution_count": 17,
   "metadata": {},
   "outputs": [],
   "source": [
    "red_df = team_df[['result', 'epicmonsterkills', 'teamdragkills','herald', 'teambaronkills', 'elders']][team_df.side == 'Red']\n",
    "blue_df = team_df[['result', 'epicmonsterkills', 'teamdragkills','herald', 'teambaronkills', 'elders']][team_df.side == 'Blue']"
   ]
  },
  {
   "cell_type": "markdown",
   "metadata": {},
   "source": [
    "**Objectifs**"
   ]
  },
  {
   "cell_type": "code",
   "execution_count": 154,
   "metadata": {},
   "outputs": [],
   "source": [
    "drakes_df = team_df[['result','teamdragkills', 'fd','fdtime', 'firedrakes', 'waterdrakes','earthdrakes', 'airdrakes', 'elders']]\n",
    "herald_df = team_df[['result','herald', 'heraldtime']]\n",
    "baron_df = team_df[['result', 'teambaronkills', 'fbaron','fbarontime']]\n",
    "turrets_df = team_df[['result','ft', 'fttime','teamtowerkills', 'firsttothreetowers']]"
   ]
  },
  {
   "cell_type": "markdown",
   "metadata": {},
   "source": [
    "# Deuxième partie\n",
    "## -**Analyse des données**"
   ]
  },
  {
   "cell_type": "markdown",
   "metadata": {},
   "source": [
    "**Longueur de partie moyenne, partie la plus longue, partie la plus courte.**"
   ]
  },
  {
   "cell_type": "code",
   "execution_count": 9,
   "metadata": {},
   "outputs": [
    {
     "name": "stdout",
     "output_type": "stream",
     "text": [
      "La longueur de partie moyenne est de 33 minutes la médiane est de 32,\n",
      "la partie la plus longue et la plus courte ont duré respectivement de 63 et 23 minutes\n",
      "L'écart-type de la longueur de partie est de 6\n"
     ]
    }
   ],
   "source": [
    "gamelen_mean = int(np.round(gamelen_df.mean()))\n",
    "gamelen_med = int(np.round(gamelen_df.median()))\n",
    "gamelen_max = int(np.round(gamelen_df.max()))\n",
    "gamelen_min = int(np.round(gamelen_df.min()))\n",
    "gamelen_std = int(np.round(gamelen_df.std()))\n",
    "print('La longueur de partie moyenne est de {} minutes la médiane est de {},\\nla partie la plus longue et la plus courte ont duré respectivement de {} et {} minutes'.format(gamelen_mean, gamelen_med, gamelen_max, gamelen_min))\n",
    "print(\"L'écart-type de la longueur de partie est de {}\".format(gamelen_std))\n",
    "gamelen_ab = gamelen_df[gamelen_df.gamelength > (2 * gamelen_std + gamelen_mean)]"
   ]
  },
  {
   "cell_type": "markdown",
   "metadata": {},
   "source": [
    "**Creep score (10 min , 15 min), CS diff / poste**"
   ]
  },
  {
   "cell_type": "code",
   "execution_count": 10,
   "metadata": {},
   "outputs": [
    {
     "name": "stdout",
     "output_type": "stream",
     "text": [
      "Moyenne des Creep score à 10 min :\n",
      "-Top 75cs\n",
      "-Jungle 57cs\n",
      "-Middle 86cs\n",
      "-Bot 84cs\n",
      "-Support 9cs\n",
      "\n",
      "Mediane des Creep score à 10 min :\n",
      "-Top 76cs\n",
      "-Jungle 57cs\n",
      "-Middle 86cs\n",
      "-Bot 85cs\n",
      "-Support 12cs\n",
      "\n",
      "Moyenne des Creep score à 15 min :\n",
      "-Top 120cs\n",
      "-Jungle 86cs\n",
      "-Middle 137cs\n",
      "-Bot 134cs\n",
      "-Support 16cs\n",
      "\n",
      "Mediane des Creep score à 15 min :\n",
      "-Top 121cs\n",
      "-Jungle 85cs\n",
      "-Middle 139cs\n",
      "-Bot 136cs\n",
      "-Support 19cs\n"
     ]
    }
   ],
   "source": [
    "def getMeanPerPos(df, column):\n",
    "    top = int(np.round(df[df.position == 'Top'][column].mean()))\n",
    "    jgl = int(np.round(df[df.position == 'Jungle'][column].mean()))\n",
    "    mid = int(np.round(df[df.position == 'Middle'][column].mean()))\n",
    "    bot = int(np.round(df[df.position == 'ADC'][column].mean()))\n",
    "    sup = int(np.round(df[df.position == 'Support'][column].mean()))\n",
    "    return top, jgl, mid, bot, sup\n",
    "\n",
    "def getMedianPerPos(df, column):\n",
    "    top = int(np.round(df[df.position == 'Top'][column].median()))\n",
    "    jgl = int(np.round(df[df.position == 'Jungle'][column].median()))\n",
    "    mid = int(np.round(df[df.position == 'Middle'][column].median()))\n",
    "    bot = int(np.round(df[df.position == 'ADC'][column].median()))\n",
    "    sup = int(np.round(df[df.position == 'Support'][column].median()))\n",
    "    return top, jgl, mid, bot, sup\n",
    "\n",
    "#csat10\n",
    "top,jgl,mid,bot,sup = getMeanPerPos(cs_df, 'csat10')\n",
    "print('Moyenne des Creep score à 10 min :\\n-Top {}cs\\n-Jungle {}cs\\n-Middle {}cs\\n-Bot {}cs\\n-Support {}cs\\n'.format(top,jgl,mid,bot,sup))\n",
    "top,jgl,mid,bot,sup = getMedianPerPos(cs_df, 'csat10')\n",
    "print('Mediane des Creep score à 10 min :\\n-Top {}cs\\n-Jungle {}cs\\n-Middle {}cs\\n-Bot {}cs\\n-Support {}cs\\n'.format(top,jgl,mid,bot,sup))\n",
    "\n",
    "#csat15\n",
    "top,jgl,mid,bot,sup = getMeanPerPos(cs_df, 'csat15')\n",
    "print('Moyenne des Creep score à 15 min :\\n-Top {}cs\\n-Jungle {}cs\\n-Middle {}cs\\n-Bot {}cs\\n-Support {}cs\\n'.format(top,jgl,mid,bot,sup))\n",
    "top,jgl,mid,bot,sup = getMedianPerPos(cs_df, 'csat15')\n",
    "print('Mediane des Creep score à 15 min :\\n-Top {}cs\\n-Jungle {}cs\\n-Middle {}cs\\n-Bot {}cs\\n-Support {}cs'.format(top,jgl,mid,bot,sup))"
   ]
  },
  {
   "cell_type": "markdown",
   "metadata": {},
   "source": [
    "**Xp(10 min) diff / poste.**"
   ]
  },
  {
   "cell_type": "code",
   "execution_count": 11,
   "metadata": {},
   "outputs": [
    {
     "name": "stdout",
     "output_type": "stream",
     "text": [
      "Moyenne en expérience à 10 min :\n",
      "-Top 4414\n",
      "-Jungle 3335\n",
      "-Middle 4626\n",
      "-Bot 3307\n",
      "-Support 2634\n",
      "\n",
      "Médiane en expérience à 10 min :\n",
      "-Top 4444\n",
      "-Jungle 3352\n",
      "-Middle 4634\n",
      "-Bot 3300\n",
      "-Support 2612\n"
     ]
    }
   ],
   "source": [
    "#xpat10\n",
    "top,jgl,mid,bot,sup = getMeanPerPos(xp_df, 'xpat10')\n",
    "print('Moyenne en expérience à 10 min :\\n-Top {}\\n-Jungle {}\\n-Middle {}\\n-Bot {}\\n-Support {}\\n'.format(top,jgl,mid,bot,sup))\n",
    "top,jgl,mid,bot,sup = getMedianPerPos(xp_df, 'xpat10')\n",
    "print('Médiane en expérience à 10 min :\\n-Top {}\\n-Jungle {}\\n-Middle {}\\n-Bot {}\\n-Support {}'.format(top,jgl,mid,bot,sup))\n"
   ]
  },
  {
   "cell_type": "markdown",
   "metadata": {},
   "source": [
    "**Stats (KDA, Dmg share, Gold share, Golds/minutes, Wards share) / poste.**"
   ]
  },
  {
   "cell_type": "code",
   "execution_count": 12,
   "metadata": {},
   "outputs": [
    {
     "name": "stdout",
     "output_type": "stream",
     "text": [
      "Moyenne du kda :\n",
      "-Top 4\n",
      "-Jungle 5\n",
      "-Middle 5\n",
      "-Bot 5\n",
      "-Support 4\n",
      "\n",
      "Médiane du kda :\n",
      "-Top 2\n",
      "-Jungle 3\n",
      "-Middle 4\n",
      "-Bot 4\n",
      "-Support 3\n",
      "\n",
      "Moyenne de la répartition des dégats:\n",
      "-Top 25%\n",
      "-Jungle 16%\n",
      "-Middle 25%\n",
      "-Bot 25%\n",
      "-Support 9%\n",
      "\n",
      "Médiane de la répartition des dégats:\n",
      "-Top 25%\n",
      "-Jungle 15%\n",
      "-Middle 24%\n",
      "-Bot 25%\n",
      "-Support 8%\n",
      "\n",
      "Moyenne de la répartition des golds:\n",
      "-Top 23%\n",
      "-Jungle 17%\n",
      "-Middle 23%\n",
      "-Bot 27%\n",
      "-Support 10%\n",
      "\n",
      "Médiane de la répartition des golds:\n",
      "-Top 23%\n",
      "-Jungle 17%\n",
      "-Middle 23%\n",
      "-Bot 27%\n",
      "-Support 10%\n",
      "\n"
     ]
    }
   ],
   "source": [
    "#kda\n",
    "top,jgl,mid,bot,sup = getMeanPerPos(stats_df, 'kda')\n",
    "print('Moyenne du kda :\\n-Top {}\\n-Jungle {}\\n-Middle {}\\n-Bot {}\\n-Support {}\\n'.format(top,jgl,mid,bot,sup))\n",
    "top,jgl,mid,bot,sup = getMedianPerPos(stats_df, 'kda')\n",
    "print('Médiane du kda :\\n-Top {}\\n-Jungle {}\\n-Middle {}\\n-Bot {}\\n-Support {}\\n'.format(top,jgl,mid,bot,sup))\n",
    "\n",
    "#Dmg share\n",
    "top,jgl,mid,bot,sup = getMeanPerPos(stats_df, 'dmgshare')\n",
    "print('Moyenne de la répartition des dégats:\\n-Top {}%\\n-Jungle {}%\\n-Middle {}%\\n-Bot {}%\\n-Support {}%\\n'.format(top,jgl,mid,bot,sup))\n",
    "top,jgl,mid,bot,sup = getMedianPerPos(stats_df, 'dmgshare')\n",
    "print('Médiane de la répartition des dégats:\\n-Top {}%\\n-Jungle {}%\\n-Middle {}%\\n-Bot {}%\\n-Support {}%\\n'.format(top,jgl,mid,bot,sup))\n",
    "\n",
    "#Gold share\n",
    "top,jgl,mid,bot,sup = getMeanPerPos(stats_df, 'earnedgoldshare')\n",
    "print('Moyenne de la répartition des golds:\\n-Top {}%\\n-Jungle {}%\\n-Middle {}%\\n-Bot {}%\\n-Support {}%\\n'.format(top,jgl,mid,bot,sup))\n",
    "top,jgl,mid,bot,sup = getMedianPerPos(stats_df, 'earnedgoldshare')\n",
    "print('Médiane de la répartition des golds:\\n-Top {}%\\n-Jungle {}%\\n-Middle {}%\\n-Bot {}%\\n-Support {}%\\n'.format(top,jgl,mid,bot,sup))"
   ]
  },
  {
   "cell_type": "markdown",
   "metadata": {},
   "source": [
    "**Les champions les plus Picks/Bans.**\n",
    "\n",
    "**Les champions avec le plus haut/bas winrate.**"
   ]
  },
  {
   "cell_type": "code",
   "execution_count": 13,
   "metadata": {
    "scrolled": false
   },
   "outputs": [
    {
     "data": {
      "text/plain": [
       "0\n",
       "Pantheon    99\n",
       "Qiyana      72\n",
       "Syndra      55\n",
       "Renekton    51\n",
       "Akali       45\n",
       "Xayah       38\n",
       "LeBlanc     37\n",
       "Kayle       36\n",
       "Elise       29\n",
       "Gragas      29\n",
       "Name: banrate, dtype: int64"
      ]
     },
     "metadata": {},
     "output_type": "display_data"
    },
    {
     "name": "stdout",
     "output_type": "stream",
     "text": [
      "Top\n"
     ]
    },
    {
     "data": {
      "text/plain": [
       "0\n",
       "Gangplank    32\n",
       "Renekton     24\n",
       "Gnar         15\n",
       "Jayce        13\n",
       "Vladimir     12\n",
       "Akali         9\n",
       "Camille       9\n",
       "Kayle         9\n",
       "Aatrox        8\n",
       "Ornn          7\n",
       "Name: pickrate, dtype: int64"
      ]
     },
     "metadata": {},
     "output_type": "display_data"
    },
    {
     "data": {
      "text/plain": [
       "0\n",
       "Renekton     75\n",
       "Qiyana       73\n",
       "Gangplank    60\n",
       "Akali        55\n",
       "Kayle        45\n",
       "Ryze         28\n",
       "Vladimir     25\n",
       "Jayce        24\n",
       "Gnar         21\n",
       "Tristana     20\n",
       "Name: prerate, dtype: int64"
      ]
     },
     "metadata": {},
     "output_type": "display_data"
    },
    {
     "data": {
      "text/plain": [
       "0\n",
       "Ornn         75\n",
       "Ryze         71\n",
       "Kennen       71\n",
       "Gnar         61\n",
       "Vladimir     57\n",
       "Kled         57\n",
       "Gangplank    55\n",
       "Jayce        47\n",
       "Camille      45\n",
       "Aatrox       33\n",
       "Name: winrate, dtype: int64"
      ]
     },
     "metadata": {},
     "output_type": "display_data"
    },
    {
     "name": "stdout",
     "output_type": "stream",
     "text": [
      "Jungle\n"
     ]
    },
    {
     "data": {
      "text/plain": [
       "0\n",
       "Lee Sin      48\n",
       "Gragas       34\n",
       "Elise        27\n",
       "Rek'Sai      18\n",
       "Jarvan IV    15\n",
       "Nocturne      9\n",
       "Qiyana        9\n",
       "Taliyah       8\n",
       "Olaf          8\n",
       "Skarner       7\n",
       "Name: pickrate, dtype: int64"
      ]
     },
     "metadata": {},
     "output_type": "display_data"
    },
    {
     "data": {
      "text/plain": [
       "0\n",
       "Qiyana       82\n",
       "Gragas       62\n",
       "Lee Sin      59\n",
       "Elise        55\n",
       "Rek'Sai      36\n",
       "Jarvan IV    26\n",
       "Olaf         25\n",
       "Nocturne     16\n",
       "Skarner      13\n",
       "Taliyah      11\n",
       "Name: prerate, dtype: int64"
      ]
     },
     "metadata": {},
     "output_type": "display_data"
    },
    {
     "data": {
      "text/plain": [
       "0\n",
       "Gragas       68\n",
       "Taliyah      67\n",
       "Olaf         60\n",
       "Lee Sin      53\n",
       "Rek'Sai      50\n",
       "Elise        50\n",
       "Jarvan IV    39\n",
       "Nocturne     27\n",
       "Karthus      20\n",
       "Ekko         20\n",
       "Name: winrate, dtype: int64"
      ]
     },
     "metadata": {},
     "output_type": "display_data"
    },
    {
     "name": "stdout",
     "output_type": "stream",
     "text": [
      "Middle\n"
     ]
    },
    {
     "data": {
      "text/plain": [
       "0\n",
       "Ryze            24\n",
       "Akali           20\n",
       "LeBlanc         18\n",
       "Syndra          18\n",
       "Orianna         10\n",
       "Kayle            9\n",
       "Qiyana           8\n",
       "Tristana         8\n",
       "Galio            7\n",
       "Twisted Fate     7\n",
       "Name: pickrate, dtype: int64"
      ]
     },
     "metadata": {},
     "output_type": "display_data"
    },
    {
     "data": {
      "text/plain": [
       "0\n",
       "Pantheon        100\n",
       "Qiyana           81\n",
       "Syndra           73\n",
       "Akali            66\n",
       "LeBlanc          55\n",
       "Renekton         55\n",
       "Ryze             46\n",
       "Kayle            45\n",
       "Twisted Fate     26\n",
       "Tristana         25\n",
       "Name: prerate, dtype: int64"
      ]
     },
     "metadata": {},
     "output_type": "display_data"
    },
    {
     "data": {
      "text/plain": [
       "0\n",
       "Yasuo           60\n",
       "Ryze            59\n",
       "Orianna         58\n",
       "Cassiopeia      57\n",
       "Twisted Fate    50\n",
       "Lissandra       50\n",
       "Corki           50\n",
       "Tristana        44\n",
       "Galio           38\n",
       "Name: winrate, dtype: int64"
      ]
     },
     "metadata": {},
     "output_type": "display_data"
    },
    {
     "name": "stdout",
     "output_type": "stream",
     "text": [
      "ADC\n"
     ]
    },
    {
     "data": {
      "text/plain": [
       "0\n",
       "Kai'Sa          60\n",
       "Xayah           47\n",
       "Ezreal          18\n",
       "Lucian           8\n",
       "Yasuo            8\n",
       "Varus            8\n",
       "Syndra           7\n",
       "Garen            7\n",
       "Heimerdinger     5\n",
       "Tristana         4\n",
       "Name: pickrate, dtype: int64"
      ]
     },
     "metadata": {},
     "output_type": "display_data"
    },
    {
     "data": {
      "text/plain": [
       "0\n",
       "Xayah       85\n",
       "Kai'Sa      74\n",
       "Syndra      62\n",
       "Kayle       37\n",
       "Ezreal      28\n",
       "Yasuo       23\n",
       "Tristana    22\n",
       "Lucian      18\n",
       "Irelia      17\n",
       "Morgana     16\n",
       "Name: prerate, dtype: int64"
      ]
     },
     "metadata": {},
     "output_type": "display_data"
    },
    {
     "data": {
      "text/plain": [
       "0\n",
       "Yasuo           67\n",
       "Varus           67\n",
       "Kai'Sa          52\n",
       "Heimerdinger    50\n",
       "Ezreal          41\n",
       "Tristana        40\n",
       "Garen           38\n",
       "Lucian          20\n",
       "Name: winrate, dtype: int64"
      ]
     },
     "metadata": {},
     "output_type": "display_data"
    },
    {
     "name": "stdout",
     "output_type": "stream",
     "text": [
      "Support\n"
     ]
    },
    {
     "data": {
      "text/plain": [
       "0\n",
       "Nautilus      40\n",
       "Rakan         35\n",
       "Thresh        29\n",
       "Leona         17\n",
       "Alistar       12\n",
       "Yuumi         11\n",
       "Pyke           9\n",
       "Gragas         8\n",
       "Morgana        7\n",
       "Blitzcrank     7\n",
       "Name: pickrate, dtype: int64"
      ]
     },
     "metadata": {},
     "output_type": "display_data"
    },
    {
     "data": {
      "text/plain": [
       "0\n",
       "Nautilus    61\n",
       "Rakan       59\n",
       "Thresh      37\n",
       "Gragas      36\n",
       "Yuumi       33\n",
       "Leona       25\n",
       "Morgana     22\n",
       "Pyke        19\n",
       "Alistar     18\n",
       "Galio       14\n",
       "Name: prerate, dtype: int64"
      ]
     },
     "metadata": {},
     "output_type": "display_data"
    },
    {
     "data": {
      "text/plain": [
       "0\n",
       "Tahm Kench    71\n",
       "Leona         65\n",
       "Morgana       62\n",
       "Gragas        56\n",
       "Rakan         55\n",
       "Nautilus      52\n",
       "Thresh        46\n",
       "Yuumi         38\n",
       "Blitzcrank    38\n",
       "Pyke          36\n",
       "Name: winrate, dtype: int64"
      ]
     },
     "metadata": {},
     "output_type": "display_data"
    }
   ],
   "source": [
    "def getPickDf(pick_df, bans_df):\n",
    "    champ_df = pd.read_csv('data/champions_list.csv', header = None).T.set_index(0)\n",
    "    champ_df['bans'] = bans_df.bans.value_counts()\n",
    "    champ_df.bans = champ_df.bans.fillna(0)\n",
    "    champ_df['picks'] = pick_df.champion.value_counts()\n",
    "    champ_df.picks = champ_df.picks.fillna(0)\n",
    "    champ_df['wins'] = pick_df[pick_df.result == 1].champion.value_counts()\n",
    "    champ_df.wins = champ_df.wins.fillna(0)\n",
    "    champ_df['presence'] = champ_df.bans + champ_df.picks\n",
    "    champ_df['prerate'] = np.round(champ_df.presence / nb_games * 100).astype(int)\n",
    "    champ_df['banrate'] = np.round(champ_df.bans / nb_games * 100).astype(int)\n",
    "    champ_df['pickrate'] = np.round(champ_df.picks / nb_games * 100).astype(int)\n",
    "    champ_df['winrate'] = np.round(champ_df.wins / champ_df.picks * 100).fillna(0).astype(int)\n",
    "    return champ_df\n",
    "\n",
    "def displayPickDf(df):\n",
    "    display(df[df.picks > 0].pickrate.sort_values(ascending = False).head(10))\n",
    "    display(df[df.picks > 0].prerate.sort_values(ascending = False).head(10))\n",
    "    display(df[(df.picks >= 5) & (df.banrate <= 33)].winrate.sort_values(ascending = False).head(10))\n",
    "\n",
    "top_df = getPickDf(pick_df[pick_df.position == 'Top'], bans_df)\n",
    "jungle_df = getPickDf(pick_df[pick_df.position == 'Jungle'], bans_df)\n",
    "mid_df = getPickDf(pick_df[pick_df.position == 'Middle'], bans_df)\n",
    "adc_df = getPickDf(pick_df[pick_df.position == 'ADC'], bans_df)\n",
    "supp_df = getPickDf(pick_df[pick_df.position == 'Support'], bans_df)\n",
    "\n",
    "display(top_df.banrate.sort_values(ascending = False).head(10))\n",
    "print('Top')\n",
    "displayPickDf(top_df)\n",
    "print('Jungle')\n",
    "displayPickDf(jungle_df)\n",
    "print('Middle')\n",
    "displayPickDf(mid_df)\n",
    "print('ADC')\n",
    "displayPickDf(adc_df)\n",
    "print('Support')\n",
    "displayPickDf(supp_df)"
   ]
  },
  {
   "cell_type": "markdown",
   "metadata": {},
   "source": [
    "**Side : Winrate, nombre d'objectifs neutres.**"
   ]
  },
  {
   "cell_type": "code",
   "execution_count": 38,
   "metadata": {},
   "outputs": [
    {
     "name": "stdout",
     "output_type": "stream",
     "text": [
      "le winrate redside 48%, blueside 52%\n",
      "La mediane des monstres epiques tués est de :red 4.0, blue 4.0\n",
      "La moyenne des Hérauts tués est de :red 0.47, blue 0.53\n",
      "La mediane des dragons tués est de :red 2.25, blue 2.2\n",
      "La mediane des barons tués est de :red 0.71, blue 0.71\n",
      "La mediane des elders tués est de :red 0.11, blue 0.13\n",
      "\n",
      "le winrate redside 48%, blueside 52%\n",
      "La mediane des monstres epiques tués est de :red 5.0, blue 5.0\n",
      "La moyenne des Hérauts tués est de :red 0.56, blue 0.61\n",
      "La mediane des dragons tués est de :red 3.19, blue 3.15\n",
      "La mediane des barons tués est de :red 1.25, blue 1.21\n",
      "La mediane des elders tués est de :red 0.19, blue 0.23\n"
     ]
    }
   ],
   "source": [
    "def getSideComp(red_df, blue_df):\n",
    "    red_wrate = int(np.round(red_df.result.sum() / nb_games * 100))\n",
    "    print(\"le winrate redside {}%, blueside {}%\".format(red_wrate, 100 - red_wrate))\n",
    "    red_epic_med = red_df.epicmonsterkills.median()\n",
    "    blue_epic_med = blue_df.epicmonsterkills.median()\n",
    "    print(\"La mediane des monstres epiques tués est de :red {}, blue {}\".format(red_epic_med, blue_epic_med))\n",
    "    red_herald_mean = np.round(red_df.herald.mean(), decimals = 2)\n",
    "    blue_herald_mean = np.round(blue_df.herald.mean(), decimals = 2)\n",
    "    print(\"La moyenne des Hérauts tués est de :red {}, blue {}\".format(red_herald_mean, blue_herald_mean))\n",
    "    red_drake_med = np.round(red_df.teamdragkills.mean(), decimals = 2)\n",
    "    blue_drake_med = np.round(blue_df.teamdragkills.mean(), decimals = 2)\n",
    "    print(\"La mediane des dragons tués est de :red {}, blue {}\".format(red_drake_med, blue_drake_med))\n",
    "    red_baron_med = np.round(red_df.teambaronkills.mean(), decimals = 2)\n",
    "    blue_baron_med = np.round(blue_df.teambaronkills.mean(), decimals = 2)\n",
    "    print(\"La mediane des barons tués est de :red {}, blue {}\".format(red_baron_med, blue_baron_med))\n",
    "    red_elder_med = np.round(red_df.elders.mean(), decimals = 2)\n",
    "    blue_elder_med = np.round(blue_df.elders.mean(), decimals = 2)\n",
    "    print(\"La mediane des elders tués est de :red {}, blue {}\".format(red_elder_med, blue_elder_med))\n",
    "\n",
    "getSideComp(red_df, blue_df)\n",
    "print(\"\")\n",
    "getSideComp(red_df[red_df.result == 1], blue_df[blue_df.result == 1])"
   ]
  },
  {
   "cell_type": "markdown",
   "metadata": {},
   "source": [
    "### Objectifs\n",
    "**Dragons : nombre/game équipe gagnante, temps de prise du premier dragon,% de chaque élément.**"
   ]
  },
  {
   "cell_type": "code",
   "execution_count": 149,
   "metadata": {},
   "outputs": [
    {
     "name": "stdout",
     "output_type": "stream",
     "text": [
      "drakes_kill_med 3.0\n",
      "drakes_fdtime_med  8.5734833333333\n",
      "air_drake_share 22.0\n",
      "fire_drake_share 24.0\n",
      "earth_drake_share 25.0\n",
      "water_drake_share 24.0\n",
      "elder_drake_share 5.0\n"
     ]
    },
    {
     "data": {
      "text/html": [
       "<div>\n",
       "<style scoped>\n",
       "    .dataframe tbody tr th:only-of-type {\n",
       "        vertical-align: middle;\n",
       "    }\n",
       "\n",
       "    .dataframe tbody tr th {\n",
       "        vertical-align: top;\n",
       "    }\n",
       "\n",
       "    .dataframe thead th {\n",
       "        text-align: right;\n",
       "    }\n",
       "</style>\n",
       "<table border=\"1\" class=\"dataframe\">\n",
       "  <thead>\n",
       "    <tr style=\"text-align: right;\">\n",
       "      <th></th>\n",
       "      <th>Winrate</th>\n",
       "      <th>Effectif</th>\n",
       "    </tr>\n",
       "  </thead>\n",
       "  <tbody>\n",
       "    <tr>\n",
       "      <th>teamdragkills_0</th>\n",
       "      <td>2.0</td>\n",
       "      <td>1.0</td>\n",
       "    </tr>\n",
       "    <tr>\n",
       "      <th>teamdragkills_1</th>\n",
       "      <td>14.0</td>\n",
       "      <td>5.0</td>\n",
       "    </tr>\n",
       "    <tr>\n",
       "      <th>teamdragkills_2</th>\n",
       "      <td>47.0</td>\n",
       "      <td>23.0</td>\n",
       "    </tr>\n",
       "    <tr>\n",
       "      <th>teamdragkills_3</th>\n",
       "      <td>84.0</td>\n",
       "      <td>47.0</td>\n",
       "    </tr>\n",
       "  </tbody>\n",
       "</table>\n",
       "</div>"
      ],
      "text/plain": [
       "                 Winrate  Effectif\n",
       "teamdragkills_0      2.0       1.0\n",
       "teamdragkills_1     14.0       5.0\n",
       "teamdragkills_2     47.0      23.0\n",
       "teamdragkills_3     84.0      47.0"
      ]
     },
     "metadata": {},
     "output_type": "display_data"
    }
   ],
   "source": [
    "#['result','teamdragkills', 'fd','fdtime', 'firedrakes', 'waterdrakes','earthdrakes', 'airdrakes', 'elders']\n",
    "drakes_kill_med = drakes_df[drakes_df.result == 1].teamdragkills.median()\n",
    "print(\"drakes_kill_med\", drakes_kill_med)\n",
    "drakes_fdtime_med = drakes_df.fdtime.median()\n",
    "print(\"drakes_fdtime_med \", drakes_fdtime_med)\n",
    "air_drake_share = np.round(drakes_df.airdrakes.sum() / drakes_df.teamdragkills.sum() *100)\n",
    "print(\"air_drake_share\", air_drake_share)\n",
    "fire_drake_share = np.round(drakes_df.firedrakes.sum() / drakes_df.teamdragkills.sum() *100)\n",
    "print(\"fire_drake_share\", fire_drake_share)\n",
    "earth_drake_share = np.round(drakes_df.earthdrakes.sum() / drakes_df.teamdragkills.sum() *100)\n",
    "print(\"earth_drake_share\", earth_drake_share)\n",
    "water_drake_share = np.round(drakes_df.waterdrakes.sum() / drakes_df.teamdragkills.sum() *100)\n",
    "print(\"water_drake_share\", water_drake_share)\n",
    "elder_drake_share = np.round(drakes_df.elders.sum() / drakes_df.teamdragkills.sum() *100)\n",
    "print(\"elder_drake_share\", elder_drake_share)\n",
    "\n",
    "def getDrakeWinrate(drakes_df, col):\n",
    "    res = {}\n",
    "    for i in range(4):\n",
    "        rate = drakes_df[(drakes_df[col] == i) & (drakes_df.result == 1)].shape[0] / drakes_df[(drakes_df[col] == i)].shape[0] * 100\n",
    "        res[col + \"_\" + str(i)] = (np.round(rate), drakes_df[(drakes_df[col] == i) & (drakes_df.result == 1)].shape[0])\n",
    "    return pd.DataFrame(res).T.rename(columns={0: \"Winrate\", 1: \"Effectif\"})\n",
    "display(getDrakeWinrate(drakes_df, 'teamdragkills'))"
   ]
  },
  {
   "cell_type": "markdown",
   "metadata": {},
   "source": [
    "**Héraut de la faille : temps de prise du Héraut, winrate des équipes ayant pris le Héraut.**"
   ]
  },
  {
   "cell_type": "code",
   "execution_count": 130,
   "metadata": {},
   "outputs": [
    {
     "name": "stdout",
     "output_type": "stream",
     "text": [
      "heraldtime_med 12.0\n",
      "herald_winrate 59.0\n"
     ]
    }
   ],
   "source": [
    "#herald_df = team_df[['result','herald', 'heraldtime']]\n",
    "heraldtime_med = np.round(herald_df.heraldtime.median())\n",
    "print(\"heraldtime_med\", heraldtime_med)\n",
    "herald_winrate = np.round(herald_df[(herald_df.herald == 1) & (herald_df.result == 1)].shape[0] /  herald_df[herald_df.result == 1].shape[0] *100)\n",
    "print(\"herald_winrate\", herald_winrate)"
   ]
  },
  {
   "cell_type": "markdown",
   "metadata": {},
   "source": [
    "**Baron Nashor : nombre par game équipe gagnante, temps de prise du premier Nashor équipe gagnante, winrate en fonction du nombre de Nashors pris.**"
   ]
  },
  {
   "cell_type": "code",
   "execution_count": 153,
   "metadata": {},
   "outputs": [
    {
     "name": "stdout",
     "output_type": "stream",
     "text": [
      "baron_mean 1.23\n",
      "baron_fbarontime_med 25.0\n"
     ]
    },
    {
     "data": {
      "text/html": [
       "<div>\n",
       "<style scoped>\n",
       "    .dataframe tbody tr th:only-of-type {\n",
       "        vertical-align: middle;\n",
       "    }\n",
       "\n",
       "    .dataframe tbody tr th {\n",
       "        vertical-align: top;\n",
       "    }\n",
       "\n",
       "    .dataframe thead th {\n",
       "        text-align: right;\n",
       "    }\n",
       "</style>\n",
       "<table border=\"1\" class=\"dataframe\">\n",
       "  <thead>\n",
       "    <tr style=\"text-align: right;\">\n",
       "      <th></th>\n",
       "      <th>Winrate</th>\n",
       "      <th>Effectif</th>\n",
       "    </tr>\n",
       "  </thead>\n",
       "  <tbody>\n",
       "    <tr>\n",
       "      <th>baron_0</th>\n",
       "      <td>7.0</td>\n",
       "      <td>7.0</td>\n",
       "    </tr>\n",
       "    <tr>\n",
       "      <th>baron_1</th>\n",
       "      <td>84.0</td>\n",
       "      <td>81.0</td>\n",
       "    </tr>\n",
       "    <tr>\n",
       "      <th>baron_2</th>\n",
       "      <td>88.0</td>\n",
       "      <td>28.0</td>\n",
       "    </tr>\n",
       "  </tbody>\n",
       "</table>\n",
       "</div>"
      ],
      "text/plain": [
       "         Winrate  Effectif\n",
       "baron_0      7.0       7.0\n",
       "baron_1     84.0      81.0\n",
       "baron_2     88.0      28.0"
      ]
     },
     "metadata": {},
     "output_type": "display_data"
    }
   ],
   "source": [
    "#baron_df = team_df[['result', 'teambaronkills', 'fbaron','fbarontime']]\n",
    "baron_mean = np.round(baron_df[baron_df.result == 1].teambaronkills.mean(), decimals = 2) \n",
    "print(\"baron_mean\", baron_mean)\n",
    "baron_fbarontime_med = np.round(baron_df[baron_df.result == 1].fbarontime.median())\n",
    "print(\"baron_fbarontime_med\", baron_fbarontime_med)\n",
    "\n",
    "def getBaronWinrate(baron_df):\n",
    "    res = {}\n",
    "    for i in range(3):\n",
    "        rate = np.round(baron_df[(baron_df.result == 1) & (baron_df.teambaronkills == i)].shape[0] / baron_df[(baron_df.teambaronkills == i)].shape[0] *100)\n",
    "        res[\"baron_\" + str(i)] = (rate, baron_df[(baron_df.result == 1) & (baron_df.teambaronkills == i)].shape[0])\n",
    "    return pd.DataFrame(res).T.rename(columns={0: \"Winrate\", 1: \"Effectif\"})\n",
    "display(getBaronWinrate(baron_df))\n"
   ]
  },
  {
   "cell_type": "markdown",
   "metadata": {},
   "source": [
    "**Tourelles : winrate par prise de la première tourelle, par nombre de tourelles prises, par prise des trois premières tourelles.**"
   ]
  },
  {
   "cell_type": "code",
   "execution_count": 159,
   "metadata": {},
   "outputs": [
    {
     "name": "stdout",
     "output_type": "stream",
     "text": [
      "ft_winrate 70.0\n",
      "firsttothreetowers_winrate 81.0\n"
     ]
    },
    {
     "data": {
      "text/html": [
       "<div>\n",
       "<style scoped>\n",
       "    .dataframe tbody tr th:only-of-type {\n",
       "        vertical-align: middle;\n",
       "    }\n",
       "\n",
       "    .dataframe tbody tr th {\n",
       "        vertical-align: top;\n",
       "    }\n",
       "\n",
       "    .dataframe thead th {\n",
       "        text-align: right;\n",
       "    }\n",
       "</style>\n",
       "<table border=\"1\" class=\"dataframe\">\n",
       "  <thead>\n",
       "    <tr style=\"text-align: right;\">\n",
       "      <th></th>\n",
       "      <th>Winrate</th>\n",
       "      <th>Effectif</th>\n",
       "    </tr>\n",
       "  </thead>\n",
       "  <tbody>\n",
       "    <tr>\n",
       "      <th>Turrets_10</th>\n",
       "      <td>100.0</td>\n",
       "      <td>32.0</td>\n",
       "    </tr>\n",
       "    <tr>\n",
       "      <th>Turrets_11</th>\n",
       "      <td>100.0</td>\n",
       "      <td>29.0</td>\n",
       "    </tr>\n",
       "    <tr>\n",
       "      <th>Turrets_5</th>\n",
       "      <td>0.0</td>\n",
       "      <td>0.0</td>\n",
       "    </tr>\n",
       "    <tr>\n",
       "      <th>Turrets_6</th>\n",
       "      <td>14.0</td>\n",
       "      <td>1.0</td>\n",
       "    </tr>\n",
       "    <tr>\n",
       "      <th>Turrets_7</th>\n",
       "      <td>57.0</td>\n",
       "      <td>8.0</td>\n",
       "    </tr>\n",
       "    <tr>\n",
       "      <th>Turrets_8</th>\n",
       "      <td>88.0</td>\n",
       "      <td>15.0</td>\n",
       "    </tr>\n",
       "    <tr>\n",
       "      <th>Turrets_9</th>\n",
       "      <td>97.0</td>\n",
       "      <td>34.0</td>\n",
       "    </tr>\n",
       "  </tbody>\n",
       "</table>\n",
       "</div>"
      ],
      "text/plain": [
       "            Winrate  Effectif\n",
       "Turrets_10    100.0      32.0\n",
       "Turrets_11    100.0      29.0\n",
       "Turrets_5       0.0       0.0\n",
       "Turrets_6      14.0       1.0\n",
       "Turrets_7      57.0       8.0\n",
       "Turrets_8      88.0      15.0\n",
       "Turrets_9      97.0      34.0"
      ]
     },
     "metadata": {},
     "output_type": "display_data"
    }
   ],
   "source": [
    "#turrets_df = team_df[['result','ft', 'fttime','teamtowerkills']]\n",
    "ft_winrate = np.round(turrets_df[(turrets_df.result == 1) & (turrets_df.ft == 1)].shape[0] / turrets_df[(turrets_df.result == 1)].shape[0] * 100)\n",
    "print(\"ft_winrate\", ft_winrate)\n",
    "firsttothreetowers_winrate = np.round(turrets_df[(turrets_df.result == 1) & (turrets_df.firsttothreetowers == 1)].shape[0] / turrets_df[(turrets_df.result == 1)].shape[0] * 100)\n",
    "print(\"firsttothreetowers_winrate\", firsttothreetowers_winrate)\n",
    "def getTurretWinrate(df):\n",
    "    res = {}\n",
    "    for i in range(5, 12):\n",
    "        rate = np.round(df[(df.result == 1) & (df.teamtowerkills == i)].shape[0] / df[df.teamtowerkills == i].shape[0] *100)\n",
    "        res[\"Turrets_\" + str(i)] = (rate, df[(df.result == 1) & (df.teamtowerkills == i)].shape[0])\n",
    "    return pd.DataFrame(res).T.rename(columns={0: \"Winrate\", 1: \"Effectif\"})\n",
    "\n",
    "display(getTurretWinrate(turrets_df))"
   ]
  }
 ],
 "metadata": {
  "kernelspec": {
   "display_name": "Python 3",
   "language": "python",
   "name": "python3"
  },
  "language_info": {
   "codemirror_mode": {
    "name": "ipython",
    "version": 3
   },
   "file_extension": ".py",
   "mimetype": "text/x-python",
   "name": "python",
   "nbconvert_exporter": "python",
   "pygments_lexer": "ipython3",
   "version": "3.5.2"
  }
 },
 "nbformat": 4,
 "nbformat_minor": 2
}
