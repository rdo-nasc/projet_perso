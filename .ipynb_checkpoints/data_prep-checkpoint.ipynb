{
 "cells": [
  {
   "cell_type": "markdown",
   "metadata": {},
   "source": [
    "# Première partie\n",
    "## -**Nettoyage des données**\n"
   ]
  },
  {
   "cell_type": "code",
   "execution_count": 1,
   "metadata": {
    "scrolled": true
   },
   "outputs": [],
   "source": [
    "import pandas as pd\n",
    "import numpy as np\n",
    "full_df = pd.read_csv('data/lol_worlds_2019.csv', na_values = ' ').drop(['url', 'league', 'split', 'date', 'patchno', 'playerid'], axis = 1).set_index('gameid', drop = False)"
   ]
  },
  {
   "cell_type": "code",
   "execution_count": 2,
   "metadata": {},
   "outputs": [
    {
     "data": {
      "text/plain": [
       "gameid\n",
       "1070340    13.588567\n",
       "1070340    13.588567\n",
       "1070340    13.588567\n",
       "1070340    13.588567\n",
       "1070340    13.588567\n",
       "1070340    13.588567\n",
       "1070340    13.588567\n",
       "1070340    13.588567\n",
       "1070340    13.588567\n",
       "1070340    13.588567\n",
       "1070340    13.588567\n",
       "1070340    13.588567\n",
       "1070330    13.696417\n",
       "1070330    13.696417\n",
       "1070330    13.696417\n",
       "1070330    13.696417\n",
       "1070330    13.696417\n",
       "1070330    13.696417\n",
       "1070330    13.696417\n",
       "1070330    13.696417\n",
       "1070330    13.696417\n",
       "1070330    13.696417\n",
       "1070330    13.696417\n",
       "1070330    13.696417\n",
       "1070349    17.613883\n",
       "1070349    17.613883\n",
       "1070349    17.613883\n",
       "1070349    17.613883\n",
       "1070349    17.613883\n",
       "1070349    17.613883\n",
       "             ...    \n",
       "1072511    14.850650\n",
       "1072511    14.850650\n",
       "1072511    14.850650\n",
       "1072511    14.850650\n",
       "1072511    14.850650\n",
       "1072511    14.850650\n",
       "1072516    13.383217\n",
       "1072516    13.383217\n",
       "1072516    13.383217\n",
       "1072516    13.383217\n",
       "1072516    13.383217\n",
       "1072516    13.383217\n",
       "1072516    13.383217\n",
       "1072516    13.383217\n",
       "1072516    13.383217\n",
       "1072516    13.383217\n",
       "1072516    13.383217\n",
       "1072516    13.383217\n",
       "1072517     7.764867\n",
       "1072517     7.764867\n",
       "1072517     7.764867\n",
       "1072517     7.764867\n",
       "1072517     7.764867\n",
       "1072517     7.764867\n",
       "1072517     7.764867\n",
       "1072517     7.764867\n",
       "1072517     7.764867\n",
       "1072517     7.764867\n",
       "1072517     7.764867\n",
       "1072517     7.764867\n",
       "Name: fttime, Length: 1428, dtype: float64"
      ]
     },
     "metadata": {},
     "output_type": "display_data"
    }
   ],
   "source": [
    "display(full_df.fttime)"
   ]
  },
  {
   "cell_type": "code",
   "execution_count": 3,
   "metadata": {},
   "outputs": [],
   "source": [
    "game_col = ['gameid', 'week', 'game', 'gamelength', 'fbtime', 'fdtime', 'fttime', 'fbarontime',\n",
    "           'heraldtime', 'ckpm']\n",
    "\n",
    "team_col = ['side', 'team', 'ban1', 'ban2', 'ban3', 'ban4', 'ban5', 'result', 'k', 'd', 'a',\n",
    "        'teamkills', 'teamdeaths', 'fb','kpm', 'okpm', 'fd', \n",
    "        'teamdragkills', 'oppdragkills', 'elementals', 'oppelementals', 'firedrakes', 'waterdrakes',\n",
    "        'earthdrakes', 'airdrakes', 'elders', 'oppelders', 'herald',\n",
    "        'heraldtime', 'ft', 'firstmidouter', 'firsttothreetowers',\n",
    "        'teamtowerkills', 'opptowerkills', 'fbaron',\n",
    "        'teambaronkills', 'oppbaronkills', 'epicmonsterkills']\n",
    "\n",
    "players_col = ['position', 'player', 'team',\n",
    "       'champion', 'k', 'd', 'a' ,'doubles',\n",
    "       'triples', 'quadras', 'pentas', 'fb', 'fbassist', 'fbvictim', 'fbtime',\n",
    "       'kpm', 'okpm','dmgtochamps', 'dmgtochampsperminute', 'dmgshare',\n",
    "       'earnedgoldshare', 'wards', 'wpm', 'wardshare', 'wardkills', 'wcpm',\n",
    "       'visionwards', 'visionwardbuys', 'totalgold', 'earnedgpm', 'goldspent',\n",
    "       'gspd', 'minionkills', 'monsterkills', 'monsterkillsownjungle',\n",
    "       'monsterkillsenemyjungle', 'cspm', 'goldat10', 'oppgoldat10', 'gdat10',\n",
    "       'goldat15', 'oppgoldat15', 'gdat15', 'xpat10', 'oppxpat10', 'xpdat10',\n",
    "       'csat10', 'oppcsat10', 'csdat10', 'csat15', 'oppcsat15', 'csdat15']"
   ]
  },
  {
   "cell_type": "code",
   "execution_count": 4,
   "metadata": {},
   "outputs": [],
   "source": [
    "full_df.earnedgoldshare = np.round(full_df.earnedgoldshare * 100, decimals = 2)\n",
    "full_df.wardshare = np.round(full_df.wardshare * 100, decimals = 2)\n",
    "full_df.dmgshare = np.round(full_df.dmgshare * 100, decimals = 2)\n",
    "full_df['epicmonsterkills'] = full_df.teamdragkills + full_df.teambaronkills + full_df.herald"
   ]
  },
  {
   "cell_type": "code",
   "execution_count": 5,
   "metadata": {},
   "outputs": [
    {
     "name": "stdout",
     "output_type": "stream",
     "text": [
      "119 24 127\n"
     ]
    }
   ],
   "source": [
    "team_df = full_df[full_df.position == \"Team\"]\n",
    "team_df = team_df.dropna(axis = 1, how = 'all')\n",
    "\n",
    "players_df = full_df[full_df.position != \"Team\"]\n",
    "players_df = players_df.dropna(axis = 1, how = 'all')\n",
    "players_df['kda'] = (players_df.k + players_df.a) / players_df.d.replace(0, 1)\n",
    "\n",
    "nb_games = team_df[team_df.result == 1].shape[0]\n",
    "nb_teams = team_df.team.unique().shape[0]\n",
    "nb_players = players_df.player.unique().shape[0]\n",
    "print(nb_games, nb_teams, nb_players)"
   ]
  },
  {
   "cell_type": "markdown",
   "metadata": {},
   "source": [
    "**Statistiques globales**"
   ]
  },
  {
   "cell_type": "code",
   "execution_count": 6,
   "metadata": {},
   "outputs": [],
   "source": [
    "gamelen_df = team_df[['gamelength']][team_df.result == 1]\n",
    "\n",
    "gold_df = team_df[['gdat10', 'gdat15']][team_df.result == 1]\n",
    "gold_df['gdatend'] = team_df[team_df.result == 1].totalgold - team_df[team_df.result == 0].totalgold\n",
    "\n",
    "cs_df = players_df[['position', 'csat10', 'csat15']]\n",
    "csd_df = players_df[['position','csdat10', 'csdat15']][players_df.result == 1]\n",
    "xpd_df = players_df[['position','xpdat10']][players_df.result == 1]\n",
    "\n",
    "stats_df = players_df[['position', 'dmgshare', 'earnedgoldshare', 'earnedgpm', 'wardshare', 'kda']]"
   ]
  },
  {
   "cell_type": "markdown",
   "metadata": {},
   "source": [
    "**Champions**"
   ]
  },
  {
   "cell_type": "code",
   "execution_count": 7,
   "metadata": {},
   "outputs": [],
   "source": [
    "bans_df = team_df.melt(id_vars= 'gameid',value_vars=['ban1','ban2', 'ban3', 'ban4', 'ban5']).drop('variable', axis = 1).set_index('gameid').rename(columns={'value': 'bans'})\n",
    "pick_df = players_df[['result','champion']]"
   ]
  },
  {
   "cell_type": "markdown",
   "metadata": {},
   "source": [
    "**Side**"
   ]
  },
  {
   "cell_type": "code",
   "execution_count": 8,
   "metadata": {},
   "outputs": [],
   "source": [
    "redside_df = team_df[['result', 'gdat10', 'gdat15', 'epicmonsterkills']][team_df.side == 'Red']\n",
    "blueside_df = team_df[['result', 'gdat10', 'gdat15', 'epicmonsterkills']][team_df.side == 'Blue']"
   ]
  },
  {
   "cell_type": "markdown",
   "metadata": {},
   "source": [
    "**Objectifs**"
   ]
  },
  {
   "cell_type": "code",
   "execution_count": 9,
   "metadata": {},
   "outputs": [],
   "source": [
    "drakes_df = team_df[['result','teamdragkills', 'fd','fdtime', 'firedrakes', 'waterdrakes','earthdrakes', 'airdrakes']]\n",
    "herald_df = team_df[['result','herald', 'heraldtime']]\n",
    "baron_df = team_df[['result', 'teambaronkills', 'fbaron','fbarontime']]\n",
    "elder_df = team_df[['result', 'elders']]\n",
    "turrets_df = team_df[['result','ft', 'fttime','teamtowerkills']]"
   ]
  },
  {
   "cell_type": "markdown",
   "metadata": {},
   "source": [
    "# Deuxième partie\n",
    "## -**Analyse des données**"
   ]
  },
  {
   "cell_type": "markdown",
   "metadata": {},
   "source": [
    "**Longueur de partie moyenne, partie la plus longue, partie la plus courte.**"
   ]
  },
  {
   "cell_type": "code",
   "execution_count": 121,
   "metadata": {},
   "outputs": [
    {
     "name": "stdout",
     "output_type": "stream",
     "text": [
      "La longueur de partie moyenne est de 33 minutes,\n",
      "la partie la plus longue et la plus courte ont duré respectivement de 63 et 23 minutes\n",
      "L'écart-type de la longueur de partie est de 6\n"
     ]
    }
   ],
   "source": [
    "gamelen_mean = int(np.round(gamelen_df.mean()))\n",
    "gamelen_max = int(np.round(gamelen_df.max()))\n",
    "gamelen_min = int(np.round(gamelen_df.min()))\n",
    "gamelen_std = int(np.round(gamelen_df.std()))\n",
    "print('La longueur de partie moyenne est de {} minutes,\\nla partie la plus longue et la plus courte ont duré respectivement de {} et {} minutes'.format(gamelen_mean, gamelen_max, gamelen_min))\n",
    "print(\"L'écart-type de la longueur de partie est de {}\".format(gamelen_std))\n",
    "gamelen_ab = gamelen_df[gamelen_df.gamelength > (2 * gamelen_std + gamelen_mean)]"
   ]
  },
  {
   "cell_type": "code",
   "execution_count": 128,
   "metadata": {},
   "outputs": [
    {
     "data": {
      "image/png": "[encoded data removed]",
      "text/plain": [
       "<Figure size 360x360 with 1 Axes>"
      ]
     },
     "metadata": {},
     "output_type": "display_data"
    },
    {
     "data": {
      "image/png": "[encoded data removed]",
      "text/plain": [
       "<Figure size 360x360 with 1 Axes>"
      ]
     },
     "metadata": {},
     "output_type": "display_data"
    },
    {
     "data": {
      "image/png": "[encoded data removed]",
      "text/plain": [
       "<Figure size 360x360 with 1 Axes>"
      ]
     },
     "metadata": {},
     "output_type": "display_data"
    },
    {
     "data": {
      "image/png": "[encoded data removed]",
      "text/plain": [
       "<Figure size 360x360 with 1 Axes>"
      ]
     },
     "metadata": {},
     "output_type": "display_data"
    },
    {
     "data": {
      "image/png": "[encoded data removed]",
      "text/plain": [
       "<Figure size 360x360 with 1 Axes>"
      ]
     },
     "metadata": {},
     "output_type": "display_data"
    },
    {
     "data": {
      "image/png": "[encoded data removed]",
      "text/plain": [
       "<Figure size 360x360 with 1 Axes>"
      ]
     },
     "metadata": {},
     "output_type": "display_data"
    }
   ],
   "source": [
    "%matplotlib inline\n",
    "import matplotlib.pyplot as plt\n",
    "import seaborn as sns\n",
    "\n",
    "def getViolins(df_list):\n",
    "    sns.set_style(\"darkgrid\")\n",
    "    for df in df_list:\n",
    "        for col in df.columns:\n",
    "            if df[col].dtype == np.int64 or  df[col].dtype == np.float64:\n",
    "                fig, ax1 = plt.subplots(figsize=(5,5))\n",
    "                sns.violinplot(y = df[col], ax = ax1, inner = 'stick', palette=\"Set2\")\n",
    "                plt.show()\n",
    "\n",
    "getViolins([gamelen_df, gold_df, cs_df])"
   ]
  },
  {
   "cell_type": "markdown",
   "metadata": {},
   "source": [
    "**Gold diff (10 min, 15 min, fin de la partie).**"
   ]
  },
  {
   "cell_type": "code",
   "execution_count": 57,
   "metadata": {
    "scrolled": true
   },
   "outputs": [
    {
     "name": "stdout",
     "output_type": "stream",
     "text": [
      "Moyenne des différences de golds à 10 min 548g, 15 min 1412g et à la fin de partie 9734g pour les équipes gagnantes.\n"
     ]
    }
   ],
   "source": [
    "gdat10_mean = int(np.round(gold_df.gdat10.median()))\n",
    "gdat15_mean = int(np.round(gold_df.gdat15.median()))\n",
    "gdatend_mean = int(np.round(gold_df.gdatend.median()))\n",
    "print('Moyenne des différences de golds à 10 min {}g, 15 min {}g et à la fin de partie {}g pour les équipes gagnantes.'.format(gdat10_mean, gdat15_mean, gdatend_mean))"
   ]
  },
  {
   "cell_type": "markdown",
   "metadata": {},
   "source": [
    "**Creep score (10 min , 15 min), CS diff / poste**"
   ]
  },
  {
   "cell_type": "code",
   "execution_count": 13,
   "metadata": {},
   "outputs": [
    {
     "name": "stdout",
     "output_type": "stream",
     "text": [
      "Moyenne des Creep score à 10 min :\n",
      "-Top 75cs\n",
      "-Jungle 57cs\n",
      "-Middle 86cs\n",
      "-Bot 84cs\n",
      "-Support 9cs\n",
      "\n",
      "Moyenne des Creep score à 15 min :\n",
      "-Top 120cs\n",
      "-Jungle 86cs\n",
      "-Middle 137cs\n",
      "-Bot 134cs\n",
      "-Support 16cs\n",
      "\n",
      "Moyenne des différences de Creep score à 10 min :\n",
      "-Top 1cs\n",
      "-Jungle 0cs\n",
      "-Middle 4cs\n",
      "-Bot 2cs\n",
      "-Support -1cs\n",
      "\n",
      "Moyenne des différences de Creep score à 15 min :\n",
      "-Top 2cs\n",
      "-Jungle 1cs\n",
      "-Middle 7cs\n",
      "-Bot 5cs\n",
      "-Support -1cs\n"
     ]
    }
   ],
   "source": [
    "def getMeanPerPos(df, column):\n",
    "    top_mean = int(np.round(df[df.position == 'Top'][column].mean()))\n",
    "    jgl_mean = int(np.round(df[df.position == 'Jungle'][column].mean()))\n",
    "    mid_mean = int(np.round(df[df.position == 'Middle'][column].mean()))\n",
    "    bot_mean = int(np.round(df[df.position == 'ADC'][column].mean()))\n",
    "    sup_mean = int(np.round(df[df.position == 'Support'][column].mean()))\n",
    "    return top_mean, jgl_mean, mid_mean, bot_mean, sup_mean\n",
    "\n",
    "#csat10\n",
    "top,jgl,mid,bot,sup = getMeanPerPos(cs_df, 'csat10')\n",
    "print('Moyenne des Creep score à 10 min :\\n-Top {}cs\\n-Jungle {}cs\\n-Middle {}cs\\n-Bot {}cs\\n-Support {}cs\\n'.format(top,jgl,mid,bot,sup))\n",
    "\n",
    "#csat15\n",
    "top,jgl,mid,bot,sup = getMeanPerPos(cs_df, 'csat15')\n",
    "print('Moyenne des Creep score à 15 min :\\n-Top {}cs\\n-Jungle {}cs\\n-Middle {}cs\\n-Bot {}cs\\n-Support {}cs\\n'.format(top,jgl,mid,bot,sup))\n",
    "\n",
    "#csdat10\n",
    "top,jgl,mid,bot,sup = getMeanPerPos(csd_df, 'csdat10')\n",
    "print('Moyenne des différences de Creep score à 10 min :\\n-Top {}cs\\n-Jungle {}cs\\n-Middle {}cs\\n-Bot {}cs\\n-Support {}cs\\n'.format(top,jgl,mid,bot,sup))\n",
    "\n",
    "#csdat15\n",
    "top,jgl,mid,bot,sup = getMeanPerPos(csd_df, 'csdat15')\n",
    "print('Moyenne des différences de Creep score à 15 min :\\n-Top {}cs\\n-Jungle {}cs\\n-Middle {}cs\\n-Bot {}cs\\n-Support {}cs'.format(top,jgl,mid,bot,sup))"
   ]
  },
  {
   "cell_type": "markdown",
   "metadata": {},
   "source": [
    "**Xp(10 min) diff / poste.**"
   ]
  },
  {
   "cell_type": "code",
   "execution_count": 14,
   "metadata": {},
   "outputs": [
    {
     "name": "stdout",
     "output_type": "stream",
     "text": [
      "Moyenne des différences en expérience à 10 min :\n",
      "-Top 56\n",
      "-Jungle 57\n",
      "-Middle 144\n",
      "-Bot 80\n",
      "-Support 5\n"
     ]
    }
   ],
   "source": [
    "#xpdat10\n",
    "top,jgl,mid,bot,sup = getMeanPerPos(xpd_df, 'xpdat10')\n",
    "print('Moyenne des différences en expérience à 10 min :\\n-Top {}\\n-Jungle {}\\n-Middle {}\\n-Bot {}\\n-Support {}'.format(top,jgl,mid,bot,sup))"
   ]
  },
  {
   "cell_type": "markdown",
   "metadata": {},
   "source": [
    "**Stats (KDA, Dmg share, Gold share, Golds/minutes, Wards share) / poste.**"
   ]
  },
  {
   "cell_type": "code",
   "execution_count": 15,
   "metadata": {},
   "outputs": [
    {
     "name": "stdout",
     "output_type": "stream",
     "text": [
      "Moyenne du kda :\n",
      "-Top 4\n",
      "-Jungle 5\n",
      "-Middle 5\n",
      "-Bot 5\n",
      "-Support 4\n",
      "\n",
      "Moyenne de la répartition des dégats:\n",
      "-Top 25%\n",
      "-Jungle 16%\n",
      "-Middle 25%\n",
      "-Bot 25%\n",
      "-Support 9%\n",
      "\n",
      "Moyenne de la répartition des golds:\n",
      "-Top 23%\n",
      "-Jungle 17%\n",
      "-Middle 23%\n",
      "-Bot 27%\n",
      "-Support 10%\n",
      "\n",
      "Moyenne de golds par minutes:\n",
      "-Top 260/min\n",
      "-Jungle 196/min\n",
      "-Middle 267/min\n",
      "-Bot 309/min\n",
      "-Support 120/min\n",
      "\n",
      "Moyenne de la répartition des wards:\n",
      "-Top 13%\n",
      "-Jungle 21%\n",
      "-Middle 12%\n",
      "-Bot 11%\n",
      "-Support 43%\n",
      "\n"
     ]
    }
   ],
   "source": [
    "#kda\n",
    "top,jgl,mid,bot,sup = getMeanPerPos(stats_df, 'kda')\n",
    "print('Moyenne du kda :\\n-Top {}\\n-Jungle {}\\n-Middle {}\\n-Bot {}\\n-Support {}\\n'.format(top,jgl,mid,bot,sup))\n",
    "\n",
    "#Dmg share\n",
    "top,jgl,mid,bot,sup = getMeanPerPos(stats_df, 'dmgshare')\n",
    "print('Moyenne de la répartition des dégats:\\n-Top {}%\\n-Jungle {}%\\n-Middle {}%\\n-Bot {}%\\n-Support {}%\\n'.format(top,jgl,mid,bot,sup))\n",
    "\n",
    "#Gold share\n",
    "top,jgl,mid,bot,sup = getMeanPerPos(stats_df, 'earnedgoldshare')\n",
    "print('Moyenne de la répartition des golds:\\n-Top {}%\\n-Jungle {}%\\n-Middle {}%\\n-Bot {}%\\n-Support {}%\\n'.format(top,jgl,mid,bot,sup))\n",
    "\n",
    "#gpm\n",
    "top,jgl,mid,bot,sup = getMeanPerPos(stats_df, 'earnedgpm')\n",
    "print('Moyenne de golds par minutes:\\n-Top {}/min\\n-Jungle {}/min\\n-Middle {}/min\\n-Bot {}/min\\n-Support {}/min\\n'.format(top,jgl,mid,bot,sup))\n",
    "\n",
    "#Ward share\n",
    "top,jgl,mid,bot,sup = getMeanPerPos(stats_df, 'wardshare')\n",
    "print('Moyenne de la répartition des wards:\\n-Top {}%\\n-Jungle {}%\\n-Middle {}%\\n-Bot {}%\\n-Support {}%\\n'.format(top,jgl,mid,bot,sup))"
   ]
  },
  {
   "cell_type": "markdown",
   "metadata": {},
   "source": [
    "**Les champions les plus Picks/Bans.**"
   ]
  },
  {
   "cell_type": "code",
   "execution_count": 16,
   "metadata": {},
   "outputs": [
    {
     "data": {
      "text/plain": [
       "Pantheon    118\n",
       "Qiyana       86\n",
       "Syndra       66\n",
       "Renekton     61\n",
       "Akali        54\n",
       "Name: bans, dtype: int64"
      ]
     },
     "metadata": {},
     "output_type": "display_data"
    },
    {
     "data": {
      "text/html": [
       "<div>\n",
       "<style scoped>\n",
       "    .dataframe tbody tr th:only-of-type {\n",
       "        vertical-align: middle;\n",
       "    }\n",
       "\n",
       "    .dataframe tbody tr th {\n",
       "        vertical-align: top;\n",
       "    }\n",
       "\n",
       "    .dataframe thead th {\n",
       "        text-align: right;\n",
       "    }\n",
       "</style>\n",
       "<table border=\"1\" class=\"dataframe\">\n",
       "  <thead>\n",
       "    <tr style=\"text-align: right;\">\n",
       "      <th></th>\n",
       "      <th>result</th>\n",
       "      <th>champion</th>\n",
       "    </tr>\n",
       "    <tr>\n",
       "      <th>gameid</th>\n",
       "      <th></th>\n",
       "      <th></th>\n",
       "    </tr>\n",
       "  </thead>\n",
       "  <tbody>\n",
       "    <tr>\n",
       "      <th>1070457</th>\n",
       "      <td>1</td>\n",
       "      <td>Pantheon</td>\n",
       "    </tr>\n",
       "  </tbody>\n",
       "</table>\n",
       "</div>"
      ],
      "text/plain": [
       "         result  champion\n",
       "gameid                   \n",
       "1070457       1  Pantheon"
      ]
     },
     "metadata": {},
     "output_type": "display_data"
    }
   ],
   "source": [
    "display(bans_df.bans.value_counts().head())\n",
    "display(pick_df[pick_df.champion == 'Pantheon'])"
   ]
  }
 ],
 "metadata": {
  "kernelspec": {
   "display_name": "Python 3",
   "language": "python",
   "name": "python3"
  },
  "language_info": {
   "codemirror_mode": {
    "name": "ipython",
    "version": 3
   },
   "file_extension": ".py",
   "mimetype": "text/x-python",
   "name": "python",
   "nbconvert_exporter": "python",
   "pygments_lexer": "ipython3",
   "version": "3.5.2"
  }
 },
 "nbformat": 4,
 "nbformat_minor": 2
}
